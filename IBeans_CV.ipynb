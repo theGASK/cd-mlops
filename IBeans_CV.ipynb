{
  "nbformat": 4,
  "nbformat_minor": 0,
  "metadata": {
    "colab": {
      "name": "IBeans CV.ipynb",
      "provenance": [],
      "collapsed_sections": []
    },
    "kernelspec": {
      "name": "python3",
      "display_name": "Python 3"
    },
    "language_info": {
      "name": "python"
    },
    "accelerator": "GPU"
  },
  "cells": [
    {
      "cell_type": "markdown",
      "metadata": {
        "id": "nq5dmL4p-vGG"
      },
      "source": [
        "# Data Acquisition and Deployment"
      ]
    },
    {
      "cell_type": "markdown",
      "metadata": {
        "id": "6rVNnFJGAec5"
      },
      "source": [
        "## Model Deployment"
      ]
    },
    {
      "cell_type": "code",
      "metadata": {
        "id": "xnITZRwibb-h"
      },
      "source": [
        "import tensorflow as tf\n",
        "from IPython.display import Image, display\n",
        "\n",
        "import matplotlib.pyplot as plt\n",
        "import tensorflow_hub as hub\n",
        "\n",
        "import numpy as np\n",
        "\n",
        "import warnings\n",
        "warnings.filterwarnings('ignore')"
      ],
      "execution_count": null,
      "outputs": []
    },
    {
      "cell_type": "code",
      "metadata": {
        "colab": {
          "base_uri": "https://localhost:8080/"
        },
        "id": "HFyq7kyKceVW",
        "outputId": "cd6943e4-e1f3-469e-b5a2-fcd5ec2095ef"
      },
      "source": [
        "!nvidia-smi"
      ],
      "execution_count": null,
      "outputs": []
    },
    {
      "cell_type": "markdown",
      "metadata": {
        "id": "53EjNXD0-3q7"
      },
      "source": [
        "## Open Source DB"
      ]
    },
    {
      "cell_type": "code",
      "metadata": {
        "colab": {
          "base_uri": "https://localhost:8080/"
        },
        "id": "_WbqLri0bwdV",
        "outputId": "385a2f1f-61b3-4ee8-ab91-07d30fba2a0f"
      },
      "source": [
        "!wget https://storage.googleapis.com/ibeans/train.zip\n",
        "!wget https://storage.googleapis.com/ibeans/validation.zip\n",
        "!wget https://storage.googleapis.com/ibeans/test.zip\n",
        "\n",
        "\n",
        "\n",
        "!unzip train.zip -d beans/\n",
        "!unzip validation.zip -d beans/\n",
        "!unzip test.zip -d beans/\n",
        "\n",
        "!ls beans\n",
        "\n",
        "!find beans -type f | wc -l\n",
        "!find beans/test -type f | wc -l\n",
        "!find beans/validation -type f | wc -l"
      ],
      "execution_count": null,
      "outputs": []
    },
    {
      "cell_type": "markdown",
      "metadata": {
        "id": "IUV0HgX_Aor9"
      },
      "source": [
        "## Implicit Data Structure"
      ]
    },
    {
      "cell_type": "markdown",
      "metadata": {
        "id": "gk-oBHQUAAXn"
      },
      "source": [
        "Use internal folder structure as classes"
      ]
    },
    {
      "cell_type": "code",
      "metadata": {
        "colab": {
          "base_uri": "https://localhost:8080/"
        },
        "id": "JoHMrSp3AJGf",
        "outputId": "0ac4c8db-ea93-403f-b199-6b0bba0b89c3"
      },
      "source": [
        "!mkdir beans"
      ],
      "execution_count": null,
      "outputs": []
    },
    {
      "cell_type": "code",
      "metadata": {
        "colab": {
          "base_uri": "https://localhost:8080/"
        },
        "id": "30__LgjBALW3",
        "outputId": "c06e8d6b-c10d-4a1a-f416-797fcc5afdaa"
      },
      "source": [
        "!unzip train.zip -d beans/\n",
        "!unzip validation.zip -d beans/\n",
        "!unzip test.zip -d beans/"
      ],
      "execution_count": null,
      "outputs": []
    },
    {
      "cell_type": "code",
      "metadata": {
        "colab": {
          "base_uri": "https://localhost:8080/"
        },
        "id": "AKvAAz0WAO8B",
        "outputId": "30c81401-467f-48d2-fce8-114836a809c0"
      },
      "source": [
        "!ls beans"
      ],
      "execution_count": null,
      "outputs": []
    },
    {
      "cell_type": "code",
      "metadata": {
        "colab": {
          "base_uri": "https://localhost:8080/"
        },
        "id": "xBcgPMr9AQrM",
        "outputId": "89b3c5a8-a55f-4ae2-fa82-5084b4ec3add"
      },
      "source": [
        "!find beans/train -type f | wc -l"
      ],
      "execution_count": null,
      "outputs": []
    },
    {
      "cell_type": "code",
      "metadata": {
        "colab": {
          "base_uri": "https://localhost:8080/"
        },
        "id": "6XHF0FEhAUcH",
        "outputId": "c306b4c6-2e66-4287-b84d-ae44320954f3"
      },
      "source": [
        "!find beans/test -type f | wc -l"
      ],
      "execution_count": null,
      "outputs": []
    },
    {
      "cell_type": "code",
      "metadata": {
        "colab": {
          "base_uri": "https://localhost:8080/"
        },
        "id": "GZMpAXMyAVsa",
        "outputId": "8155b331-c497-4350-d05d-01952cf1f978"
      },
      "source": [
        "!find beans/validation -type f | wc -l"
      ],
      "execution_count": null,
      "outputs": []
    },
    {
      "cell_type": "code",
      "metadata": {
        "id": "4Dzp9R3scCk1",
        "colab": {
          "base_uri": "https://localhost:8080/",
          "height": 517
        },
        "outputId": "63eb3d86-73a9-4d96-90b5-bc1dba820589"
      },
      "source": [
        "display(Image('beans/train/healthy/healthy_train.265.jpg'))"
      ],
      "execution_count": null,
      "outputs": []
    },
    {
      "cell_type": "code",
      "metadata": {
        "colab": {
          "base_uri": "https://localhost:8080/",
          "height": 517
        },
        "id": "CU16DJUEBCUB",
        "outputId": "5a20ae51-f1f0-415b-f417-c7f53819a603"
      },
      "source": [
        "display(Image('beans/train/angular_leaf_spot/angular_leaf_spot_train.98.jpg'))"
      ],
      "execution_count": null,
      "outputs": []
    },
    {
      "cell_type": "code",
      "metadata": {
        "colab": {
          "base_uri": "https://localhost:8080/",
          "height": 517
        },
        "id": "cmozEpIxBDqk",
        "outputId": "4ef5bf28-c7e4-40ed-cc97-2c3e5ac12b64"
      },
      "source": [
        "display(Image('beans/train/bean_rust/bean_rust_train.212.jpg'))"
      ],
      "execution_count": null,
      "outputs": []
    },
    {
      "cell_type": "markdown",
      "metadata": {
        "id": "qe8_11pyCNxB"
      },
      "source": [
        "## Parameterization"
      ]
    },
    {
      "cell_type": "code",
      "metadata": {
        "id": "sdHkJLyNcFN3"
      },
      "source": [
        "batch_size = 128\n",
        "img_height = 224\n",
        "img_width = 224"
      ],
      "execution_count": null,
      "outputs": []
    },
    {
      "cell_type": "code",
      "metadata": {
        "id": "ukAcBOM5cQef",
        "colab": {
          "base_uri": "https://localhost:8080/"
        },
        "outputId": "9d84875b-b540-4ac5-c657-7db5720d6370"
      },
      "source": [
        "train_ds = tf.keras.preprocessing.image_dataset_from_directory('beans/train',\n",
        "            seed=111,\n",
        "            image_size=(img_width, img_height),\n",
        "            batch_size=batch_size)"
      ],
      "execution_count": null,
      "outputs": []
    },
    {
      "cell_type": "code",
      "metadata": {
        "colab": {
          "base_uri": "https://localhost:8080/"
        },
        "id": "d_h4M5GB9Ewv",
        "outputId": "edc1d70e-a6f1-4bbd-9f4e-778422a4152f"
      },
      "source": [
        "test_ds = tf.keras.preprocessing.image_dataset_from_directory('beans/test',\n",
        "            seed=111,\n",
        "            image_size=(img_width, img_height),\n",
        "            batch_size=batch_size)"
      ],
      "execution_count": null,
      "outputs": []
    },
    {
      "cell_type": "code",
      "metadata": {
        "colab": {
          "base_uri": "https://localhost:8080/"
        },
        "id": "IXPTHoKR9mjP",
        "outputId": "86c1dadf-cbe5-4a1f-c9c4-887dd8bb4b15"
      },
      "source": [
        "val_ds = tf.keras.preprocessing.image_dataset_from_directory('beans/validation',\n",
        "            seed=111,\n",
        "            image_size=(img_width, img_height),\n",
        "            batch_size=batch_size)"
      ],
      "execution_count": null,
      "outputs": []
    },
    {
      "cell_type": "code",
      "metadata": {
        "colab": {
          "base_uri": "https://localhost:8080/"
        },
        "id": "RiACPyHRCcPc",
        "outputId": "5a06c1a1-952b-48f3-d825-70a77eb1ac52"
      },
      "source": [
        "for image_batch, labels_batch in train_ds:\n",
        "  print(image_batch.shape)\n",
        "  print(labels_batch.shape)\n",
        "  break"
      ],
      "execution_count": null,
      "outputs": []
    },
    {
      "cell_type": "code",
      "metadata": {
        "colab": {
          "base_uri": "https://localhost:8080/"
        },
        "id": "ewlCFoPtDKcx",
        "outputId": "a5138bbb-27c0-4d2b-a1a1-b0da9407d2f1"
      },
      "source": [
        "classes=train_ds.class_names\n",
        "print(classes)"
      ],
      "execution_count": null,
      "outputs": []
    },
    {
      "cell_type": "code",
      "metadata": {
        "colab": {
          "base_uri": "https://localhost:8080/",
          "height": 591
        },
        "id": "99e6gBlsDbcI",
        "outputId": "d7fcc936-0d93-4278-c211-0c220b0a4b50"
      },
      "source": [
        "plt.figure(figsize=(10, 10))\n",
        "\n",
        "for images, labels in train_ds.take(1):\n",
        "  for i in range(9):\n",
        "    ax = plt.subplot(3, 3, i + 1)\n",
        "    plt.imshow(images[i].numpy().astype('uint8'))\n",
        "    plt.title(classes[labels[i]])\n",
        "    plt.axis('off')"
      ],
      "execution_count": null,
      "outputs": []
    },
    {
      "cell_type": "code",
      "metadata": {
        "id": "0lCgIsm9Kf4X"
      },
      "source": [
        "AUTOTUNE = tf.data.AUTOTUNE\n",
        "\n",
        "train_ds = train_ds.cache().prefetch(buffer_size=AUTOTUNE)\n",
        "val_ds = val_ds.cache().prefetch(buffer_size=AUTOTUNE)"
      ],
      "execution_count": null,
      "outputs": []
    },
    {
      "cell_type": "markdown",
      "metadata": {
        "id": "Zb0npcxrcawU"
      },
      "source": [
        "# Model Acquisition and Deployment"
      ]
    },
    {
      "cell_type": "markdown",
      "metadata": {
        "id": "MlnMLiJQUSXJ"
      },
      "source": [
        "## tf_hub model import\n",
        "\n",
        "https://tfhub.dev/google/tf2-preview/mobilenet_v2/feature_vector/4"
      ]
    },
    {
      "cell_type": "code",
      "metadata": {
        "id": "gC27oFE9P1Ve"
      },
      "source": [
        "feature_extractor = 'https://tfhub.dev/google/tf2-preview/mobilenet_v2/feature_vector/4'"
      ],
      "execution_count": null,
      "outputs": []
    },
    {
      "cell_type": "code",
      "metadata": {
        "id": "vgYTe2sUV3Yb"
      },
      "source": [
        "feature_extractor_layer = hub.KerasLayer(feature_extractor, input_shape=(img_height,img_width,3))"
      ],
      "execution_count": null,
      "outputs": []
    },
    {
      "cell_type": "code",
      "metadata": {
        "id": "NGdAj5OWVfXo"
      },
      "source": [
        "feature_extractor_layer.trainable = False"
      ],
      "execution_count": null,
      "outputs": []
    },
    {
      "cell_type": "code",
      "metadata": {
        "id": "EgnChnvpVrsV"
      },
      "source": [
        "normalization_layer = tf.keras.layers.experimental.preprocessing.Rescaling(1./255)"
      ],
      "execution_count": null,
      "outputs": []
    },
    {
      "cell_type": "code",
      "metadata": {
        "id": "BZJG_N69WO1z"
      },
      "source": [
        "tf.random.set_seed(111)"
      ],
      "execution_count": null,
      "outputs": []
    },
    {
      "cell_type": "code",
      "metadata": {
        "id": "drAuQ-8xWTsK"
      },
      "source": [
        "model = tf.keras.Sequential([\n",
        "                             normalization_layer,\n",
        "                             feature_extractor_layer,\n",
        "                             tf.keras.layers.Dropout(0.3),\n",
        "                             tf.keras.layers.Dense(3,activation='softmax')\n",
        "])"
      ],
      "execution_count": null,
      "outputs": []
    },
    {
      "cell_type": "code",
      "metadata": {
        "id": "-LytRR9kWzZ5"
      },
      "source": [
        "model.compile(\n",
        "    optimizer='adam',\n",
        "    loss=tf.losses.SparseCategoricalCrossentropy(from_logits=True),\n",
        "    metrics=['accuracy']\n",
        ")"
      ],
      "execution_count": null,
      "outputs": []
    },
    {
      "cell_type": "markdown",
      "metadata": {
        "id": "CsCKQ974cPZh"
      },
      "source": [
        "## Train & Tests model"
      ]
    },
    {
      "cell_type": "code",
      "metadata": {
        "colab": {
          "base_uri": "https://localhost:8080/"
        },
        "id": "PHhusSEPXEFF",
        "outputId": "eab511f1-5022-4ad5-a609-10bac6cb4eb8"
      },
      "source": [
        "history = model.fit(train_ds, epochs=20, validation_data=val_ds)"
      ],
      "execution_count": null,
      "outputs": []
    },
    {
      "cell_type": "code",
      "metadata": {
        "id": "2_diT40UXpL2"
      },
      "source": [
        "model.summary()"
      ],
      "execution_count": null,
      "outputs": []
    },
    {
      "cell_type": "code",
      "metadata": {
        "colab": {
          "base_uri": "https://localhost:8080/",
          "height": 279
        },
        "id": "YeqqkZtsX-a0",
        "outputId": "3d2b7525-105d-4341-f16b-d4dfd6869ccf"
      },
      "source": [
        "plt.plot(history.history['accuracy'])\n",
        "plt.plot(history.history['val_accuracy'])\n",
        "plt.ylabel('accuracy')\n",
        "plt.xlabel('epoch')\n",
        "plt.legend(['train_acc', 'val_acc'], loc='best')\n",
        "plt.show()"
      ],
      "execution_count": null,
      "outputs": []
    },
    {
      "cell_type": "code",
      "metadata": {
        "colab": {
          "base_uri": "https://localhost:8080/"
        },
        "id": "cy_A1UTQYfo7",
        "outputId": "9c64a878-d990-4f4a-c973-cdecd2179328"
      },
      "source": [
        "result = model.evaluate(test_ds)"
      ],
      "execution_count": null,
      "outputs": []
    },
    {
      "cell_type": "code",
      "metadata": {
        "colab": {
          "base_uri": "https://localhost:8080/",
          "height": 729
        },
        "id": "i5FmjO0rZbJA",
        "outputId": "b87ec0af-6ace-4a89-dfff-b3cd8ec744c6"
      },
      "source": [
        "plt.figure(figsize=(10, 10))\n",
        "\n",
        "for images, labels in test_ds.take(1):\n",
        "  for i in range(9):\n",
        "    ax = plt.subplot(3, 3, i + 1)\n",
        "    plt.tight_layout()\n",
        "\n",
        "    img = tf.keras.preprocessing.image.img_to_array(images[i])\n",
        "    img = np.expand_dims(img, axis=0)\n",
        "\n",
        "    pred = model.predict(img)\n",
        "    plt.imshow(images[i].numpy().astype('uint8'))\n",
        "    plt.title('Real Label: %s' % classes[labels[i]])\n",
        "    plt.text(1, 240, 'Predicted Label: %s' % classes[np.argmax(pred)], fontsize=12)\n",
        "\n",
        "    plt.axis('off')"
      ],
      "execution_count": null,
      "outputs": []
    },
    {
      "cell_type": "markdown",
      "metadata": {
        "id": "28dGetDrcU0Z"
      },
      "source": [
        "## Save model"
      ]
    },
    {
      "cell_type": "code",
      "metadata": {
        "colab": {
          "base_uri": "https://localhost:8080/"
        },
        "id": "AAPzbH77ZiPI",
        "outputId": "bf600b6b-5c2f-4083-a537-84b71052bc58"
      },
      "source": [
        "model.save('./models', save_format='tf')"
      ],
      "execution_count": null,
      "outputs": []
    },
    {
      "cell_type": "code",
      "metadata": {
        "colab": {
          "base_uri": "https://localhost:8080/"
        },
        "id": "0fyq8AIGbkKh",
        "outputId": "80c25d05-83c2-4121-f665-afbe89020dc6"
      },
      "source": [
        "# !ls models\n",
        "!ls -alrt models\n"
      ],
      "execution_count": null,
      "outputs": []
    },
    {
      "cell_type": "markdown",
      "metadata": {
        "id": "HupWmubZdr0W"
      },
      "source": [
        "## Inference on a single image"
      ]
    },
    {
      "cell_type": "code",
      "metadata": {
        "id": "S-QONLDOboRI"
      },
      "source": [
        "model_loaded = tf.keras.models.load_model('./models')"
      ],
      "execution_count": null,
      "outputs": []
    },
    {
      "cell_type": "code",
      "metadata": {
        "colab": {
          "base_uri": "https://localhost:8080/"
        },
        "id": "Z-R_g6efb-jw",
        "outputId": "b7e49562-90c0-464c-9177-1f1373443c8a"
      },
      "source": [
        "model_loaded.summary()"
      ],
      "execution_count": null,
      "outputs": []
    },
    {
      "cell_type": "markdown",
      "metadata": {
        "id": "_AnYw8tZeD1M"
      },
      "source": [
        "## Trasform inference image to fit model"
      ]
    },
    {
      "cell_type": "code",
      "metadata": {
        "id": "vbaJbi0-cCHX"
      },
      "source": [
        "from PIL import Image\n",
        "import numpy as np\n",
        "from skimage import transform"
      ],
      "execution_count": null,
      "outputs": []
    },
    {
      "cell_type": "code",
      "metadata": {
        "id": "LO4Ps_Flc2LN"
      },
      "source": [
        "def process_img(filename):\n",
        "  np_image = Image.open(filename)\n",
        "  np_image = np.array(np_image).astype('float32')\n",
        "  np_image = transform.resize(np_image, (224, 224, 3))\n",
        "  np_image = np.expand_dims(np_image, axis=0)\n",
        "  return np_image"
      ],
      "execution_count": null,
      "outputs": []
    },
    {
      "cell_type": "markdown",
      "metadata": {
        "id": "KSd7uOYyfn-B"
      },
      "source": [
        "## Final Test"
      ]
    },
    {
      "cell_type": "code",
      "metadata": {
        "colab": {
          "base_uri": "https://localhost:8080/"
        },
        "id": "PvIEG-WdeJ1p",
        "outputId": "a9609cba-8c14-496a-a766-1d4e48703119"
      },
      "source": [
        "pred_label = model_loaded.predict(process_img('beans/train/healthy/healthy_train.265.jpg'))\n",
        "print(classes[np.argmax(pred_label)])"
      ],
      "execution_count": null,
      "outputs": []
    },
    {
      "cell_type": "code",
      "metadata": {
        "colab": {
          "base_uri": "https://localhost:8080/"
        },
        "id": "ctMswSMrejG3",
        "outputId": "2e1155b0-dfa6-434c-f265-6cd04aa05b9d"
      },
      "source": [
        "pred_label"
      ],
      "execution_count": null,
      "outputs": []
    },
    {
      "cell_type": "markdown",
      "metadata": {
        "id": "z2_Qe4hufq2H"
      },
      "source": [
        "# Export Model to Deploy"
      ]
    },
    {
      "cell_type": "code",
      "metadata": {
        "colab": {
          "base_uri": "https://localhost:8080/"
        },
        "id": "AhdRgTQVfirt",
        "outputId": "d57982eb-7eb4-4dcb-aeee-29e05376d39c"
      },
      "source": [
        "print('TensorFlow version: ' + tf.__version__)"
      ],
      "execution_count": null,
      "outputs": []
    },
    {
      "cell_type": "code",
      "metadata": {
        "colab": {
          "base_uri": "https://localhost:8080/"
        },
        "id": "rsxrwd9zfZYN",
        "outputId": "5a3e769e-7d87-495c-e439-57fcb26d18cc"
      },
      "source": [
        "!zip -r models.zip models/"
      ],
      "execution_count": null,
      "outputs": []
    },
    {
      "cell_type": "code",
      "metadata": {
        "id": "3mCh6iQsfyfz"
      },
      "source": [],
      "execution_count": null,
      "outputs": []
    }
  ]
}